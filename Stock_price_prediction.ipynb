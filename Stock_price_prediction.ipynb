{
 "cells": [
  {
   "cell_type": "code",
   "execution_count": 1,
   "metadata": {},
   "outputs": [],
   "source": [
    "import pandas as pd\n",
    "import numpy as np\n",
    "from sklearn import metrics\n",
    "%matplotlib inline\n",
    "import matplotlib.pyplot as plt"
   ]
  },
  {
   "cell_type": "code",
   "execution_count": 2,
   "metadata": {},
   "outputs": [
    {
     "data": {
      "text/html": [
       "<div>\n",
       "<style scoped>\n",
       "    .dataframe tbody tr th:only-of-type {\n",
       "        vertical-align: middle;\n",
       "    }\n",
       "\n",
       "    .dataframe tbody tr th {\n",
       "        vertical-align: top;\n",
       "    }\n",
       "\n",
       "    .dataframe thead th {\n",
       "        text-align: right;\n",
       "    }\n",
       "</style>\n",
       "<table border=\"1\" class=\"dataframe\">\n",
       "  <thead>\n",
       "    <tr style=\"text-align: right;\">\n",
       "      <th></th>\n",
       "      <th>Date</th>\n",
       "      <th>Open</th>\n",
       "      <th>High</th>\n",
       "      <th>Low</th>\n",
       "      <th>Close</th>\n",
       "      <th>Adj Close</th>\n",
       "      <th>Volume</th>\n",
       "    </tr>\n",
       "  </thead>\n",
       "  <tbody>\n",
       "    <tr>\n",
       "      <th>0</th>\n",
       "      <td>2020-04-02</td>\n",
       "      <td>36.060001</td>\n",
       "      <td>37.590000</td>\n",
       "      <td>35.770000</td>\n",
       "      <td>37.570000</td>\n",
       "      <td>37.570000</td>\n",
       "      <td>3112700</td>\n",
       "    </tr>\n",
       "    <tr>\n",
       "      <th>1</th>\n",
       "      <td>2020-04-03</td>\n",
       "      <td>36.980000</td>\n",
       "      <td>37.049999</td>\n",
       "      <td>33.860001</td>\n",
       "      <td>34.590000</td>\n",
       "      <td>34.590000</td>\n",
       "      <td>3275400</td>\n",
       "    </tr>\n",
       "    <tr>\n",
       "      <th>2</th>\n",
       "      <td>2020-04-06</td>\n",
       "      <td>36.630001</td>\n",
       "      <td>38.520000</td>\n",
       "      <td>36.369999</td>\n",
       "      <td>36.950001</td>\n",
       "      <td>36.950001</td>\n",
       "      <td>4605100</td>\n",
       "    </tr>\n",
       "    <tr>\n",
       "      <th>3</th>\n",
       "      <td>2020-04-07</td>\n",
       "      <td>39.330002</td>\n",
       "      <td>39.450001</td>\n",
       "      <td>36.799999</td>\n",
       "      <td>37.020000</td>\n",
       "      <td>37.020000</td>\n",
       "      <td>3567800</td>\n",
       "    </tr>\n",
       "    <tr>\n",
       "      <th>4</th>\n",
       "      <td>2020-04-08</td>\n",
       "      <td>38.209999</td>\n",
       "      <td>39.180000</td>\n",
       "      <td>37.279999</td>\n",
       "      <td>38.840000</td>\n",
       "      <td>38.840000</td>\n",
       "      <td>2623300</td>\n",
       "    </tr>\n",
       "  </tbody>\n",
       "</table>\n",
       "</div>"
      ],
      "text/plain": [
       "         Date       Open       High        Low      Close  Adj Close   Volume\n",
       "0  2020-04-02  36.060001  37.590000  35.770000  37.570000  37.570000  3112700\n",
       "1  2020-04-03  36.980000  37.049999  33.860001  34.590000  34.590000  3275400\n",
       "2  2020-04-06  36.630001  38.520000  36.369999  36.950001  36.950001  4605100\n",
       "3  2020-04-07  39.330002  39.450001  36.799999  37.020000  37.020000  3567800\n",
       "4  2020-04-08  38.209999  39.180000  37.279999  38.840000  38.840000  2623300"
      ]
     },
     "execution_count": 2,
     "metadata": {},
     "output_type": "execute_result"
    }
   ],
   "source": [
    "dataset=pd.read_csv(\"C:\\\\Users\\\\GK\\\\Desktop\\\\ML\\\\StockPrediction\\\\HDB.csv\")\n",
    "dataset.head()"
   ]
  },
  {
   "cell_type": "code",
   "execution_count": 3,
   "metadata": {},
   "outputs": [
    {
     "data": {
      "text/plain": [
       "(252, 7)"
      ]
     },
     "execution_count": 3,
     "metadata": {},
     "output_type": "execute_result"
    }
   ],
   "source": [
    "dataset['Date'] = pd.to_datetime(dataset.Date)\n",
    "dataset.shape"
   ]
  },
  {
   "cell_type": "code",
   "execution_count": 4,
   "metadata": {},
   "outputs": [
    {
     "data": {
      "text/html": [
       "<div>\n",
       "<style scoped>\n",
       "    .dataframe tbody tr th:only-of-type {\n",
       "        vertical-align: middle;\n",
       "    }\n",
       "\n",
       "    .dataframe tbody tr th {\n",
       "        vertical-align: top;\n",
       "    }\n",
       "\n",
       "    .dataframe thead th {\n",
       "        text-align: right;\n",
       "    }\n",
       "</style>\n",
       "<table border=\"1\" class=\"dataframe\">\n",
       "  <thead>\n",
       "    <tr style=\"text-align: right;\">\n",
       "      <th></th>\n",
       "      <th>Date</th>\n",
       "      <th>Open</th>\n",
       "      <th>High</th>\n",
       "      <th>Low</th>\n",
       "      <th>Close</th>\n",
       "      <th>Volume</th>\n",
       "    </tr>\n",
       "  </thead>\n",
       "  <tbody>\n",
       "    <tr>\n",
       "      <th>0</th>\n",
       "      <td>2020-04-02</td>\n",
       "      <td>36.060001</td>\n",
       "      <td>37.590000</td>\n",
       "      <td>35.770000</td>\n",
       "      <td>37.570000</td>\n",
       "      <td>3112700</td>\n",
       "    </tr>\n",
       "    <tr>\n",
       "      <th>1</th>\n",
       "      <td>2020-04-03</td>\n",
       "      <td>36.980000</td>\n",
       "      <td>37.049999</td>\n",
       "      <td>33.860001</td>\n",
       "      <td>34.590000</td>\n",
       "      <td>3275400</td>\n",
       "    </tr>\n",
       "    <tr>\n",
       "      <th>2</th>\n",
       "      <td>2020-04-06</td>\n",
       "      <td>36.630001</td>\n",
       "      <td>38.520000</td>\n",
       "      <td>36.369999</td>\n",
       "      <td>36.950001</td>\n",
       "      <td>4605100</td>\n",
       "    </tr>\n",
       "    <tr>\n",
       "      <th>3</th>\n",
       "      <td>2020-04-07</td>\n",
       "      <td>39.330002</td>\n",
       "      <td>39.450001</td>\n",
       "      <td>36.799999</td>\n",
       "      <td>37.020000</td>\n",
       "      <td>3567800</td>\n",
       "    </tr>\n",
       "    <tr>\n",
       "      <th>4</th>\n",
       "      <td>2020-04-08</td>\n",
       "      <td>38.209999</td>\n",
       "      <td>39.180000</td>\n",
       "      <td>37.279999</td>\n",
       "      <td>38.840000</td>\n",
       "      <td>2623300</td>\n",
       "    </tr>\n",
       "  </tbody>\n",
       "</table>\n",
       "</div>"
      ],
      "text/plain": [
       "        Date       Open       High        Low      Close   Volume\n",
       "0 2020-04-02  36.060001  37.590000  35.770000  37.570000  3112700\n",
       "1 2020-04-03  36.980000  37.049999  33.860001  34.590000  3275400\n",
       "2 2020-04-06  36.630001  38.520000  36.369999  36.950001  4605100\n",
       "3 2020-04-07  39.330002  39.450001  36.799999  37.020000  3567800\n",
       "4 2020-04-08  38.209999  39.180000  37.279999  38.840000  2623300"
      ]
     },
     "execution_count": 4,
     "metadata": {},
     "output_type": "execute_result"
    }
   ],
   "source": [
    "dataset.drop('Adj Close',axis = 1, inplace = True)\n",
    "dataset.head()"
   ]
  },
  {
   "cell_type": "code",
   "execution_count": 8,
   "metadata": {},
   "outputs": [
    {
     "data": {
      "text/plain": [
       "Date      0\n",
       "Open      0\n",
       "High      0\n",
       "Low       0\n",
       "Close     0\n",
       "Volume    0\n",
       "dtype: int64"
      ]
     },
     "execution_count": 8,
     "metadata": {},
     "output_type": "execute_result"
    }
   ],
   "source": [
    "dataset.isnull().sum()"
   ]
  },
  {
   "cell_type": "code",
   "execution_count": 11,
   "metadata": {},
   "outputs": [
    {
     "data": {
      "text/html": [
       "<div>\n",
       "<style scoped>\n",
       "    .dataframe tbody tr th:only-of-type {\n",
       "        vertical-align: middle;\n",
       "    }\n",
       "\n",
       "    .dataframe tbody tr th {\n",
       "        vertical-align: top;\n",
       "    }\n",
       "\n",
       "    .dataframe thead th {\n",
       "        text-align: right;\n",
       "    }\n",
       "</style>\n",
       "<table border=\"1\" class=\"dataframe\">\n",
       "  <thead>\n",
       "    <tr style=\"text-align: right;\">\n",
       "      <th></th>\n",
       "      <th>Open</th>\n",
       "      <th>High</th>\n",
       "      <th>Low</th>\n",
       "      <th>Close</th>\n",
       "      <th>Volume</th>\n",
       "    </tr>\n",
       "  </thead>\n",
       "  <tbody>\n",
       "    <tr>\n",
       "      <th>count</th>\n",
       "      <td>252.000000</td>\n",
       "      <td>252.000000</td>\n",
       "      <td>252.000000</td>\n",
       "      <td>252.000000</td>\n",
       "      <td>2.520000e+02</td>\n",
       "    </tr>\n",
       "    <tr>\n",
       "      <th>mean</th>\n",
       "      <td>57.894802</td>\n",
       "      <td>58.520159</td>\n",
       "      <td>57.248214</td>\n",
       "      <td>57.926071</td>\n",
       "      <td>1.872162e+06</td>\n",
       "    </tr>\n",
       "    <tr>\n",
       "      <th>std</th>\n",
       "      <td>14.763829</td>\n",
       "      <td>14.841919</td>\n",
       "      <td>14.700753</td>\n",
       "      <td>14.835093</td>\n",
       "      <td>1.123577e+06</td>\n",
       "    </tr>\n",
       "    <tr>\n",
       "      <th>min</th>\n",
       "      <td>36.060001</td>\n",
       "      <td>36.730000</td>\n",
       "      <td>33.860001</td>\n",
       "      <td>34.590000</td>\n",
       "      <td>3.097000e+05</td>\n",
       "    </tr>\n",
       "    <tr>\n",
       "      <th>25%</th>\n",
       "      <td>46.187499</td>\n",
       "      <td>46.520000</td>\n",
       "      <td>45.642501</td>\n",
       "      <td>46.127499</td>\n",
       "      <td>1.184625e+06</td>\n",
       "    </tr>\n",
       "    <tr>\n",
       "      <th>50%</th>\n",
       "      <td>51.400000</td>\n",
       "      <td>52.065001</td>\n",
       "      <td>51.040001</td>\n",
       "      <td>51.774999</td>\n",
       "      <td>1.588950e+06</td>\n",
       "    </tr>\n",
       "    <tr>\n",
       "      <th>75%</th>\n",
       "      <td>70.752500</td>\n",
       "      <td>71.470001</td>\n",
       "      <td>69.672499</td>\n",
       "      <td>70.629999</td>\n",
       "      <td>2.150475e+06</td>\n",
       "    </tr>\n",
       "    <tr>\n",
       "      <th>max</th>\n",
       "      <td>84.699997</td>\n",
       "      <td>84.699997</td>\n",
       "      <td>83.029999</td>\n",
       "      <td>83.750000</td>\n",
       "      <td>7.410100e+06</td>\n",
       "    </tr>\n",
       "  </tbody>\n",
       "</table>\n",
       "</div>"
      ],
      "text/plain": [
       "             Open        High         Low       Close        Volume\n",
       "count  252.000000  252.000000  252.000000  252.000000  2.520000e+02\n",
       "mean    57.894802   58.520159   57.248214   57.926071  1.872162e+06\n",
       "std     14.763829   14.841919   14.700753   14.835093  1.123577e+06\n",
       "min     36.060001   36.730000   33.860001   34.590000  3.097000e+05\n",
       "25%     46.187499   46.520000   45.642501   46.127499  1.184625e+06\n",
       "50%     51.400000   52.065001   51.040001   51.774999  1.588950e+06\n",
       "75%     70.752500   71.470001   69.672499   70.629999  2.150475e+06\n",
       "max     84.699997   84.699997   83.029999   83.750000  7.410100e+06"
      ]
     },
     "execution_count": 11,
     "metadata": {},
     "output_type": "execute_result"
    }
   ],
   "source": [
    "dataset.describe()"
   ]
  },
  {
   "cell_type": "code",
   "execution_count": 21,
   "metadata": {},
   "outputs": [
    {
     "data": {
      "text/plain": [
       "<AxesSubplot:>"
      ]
     },
     "execution_count": 21,
     "metadata": {},
     "output_type": "execute_result"
    },
    {
     "data": {
      "image/png": "[encoded data removed]",
      "text/plain": [
       "<Figure size 1296x648 with 1 Axes>"
      ]
     },
     "metadata": {
      "needs_background": "light"
     },
     "output_type": "display_data"
    }
   ],
   "source": [
    "dataset['Open'].plot(figsize=(18, 9))"
   ]
  },
  {
   "cell_type": "code",
   "execution_count": 22,
   "metadata": {},
   "outputs": [],
   "source": [
    "X  = dataset[['Open','High','Low','Volume']]\n",
    "y = dataset['Close']"
   ]
  },
  {
   "cell_type": "code",
   "execution_count": 23,
   "metadata": {},
   "outputs": [],
   "source": [
    "from sklearn.model_selection import train_test_split\n",
    "X_train , X_test , y_train , y_test = train_test_split(X ,y , random_state = 0)"
   ]
  },
  {
   "cell_type": "code",
   "execution_count": 25,
   "metadata": {},
   "outputs": [
    {
     "data": {
      "text/plain": [
       "(189, 4)"
      ]
     },
     "execution_count": 25,
     "metadata": {},
     "output_type": "execute_result"
    }
   ],
   "source": [
    "X_train.shape"
   ]
  },
  {
   "cell_type": "code",
   "execution_count": 26,
   "metadata": {},
   "outputs": [
    {
     "data": {
      "text/plain": [
       "(63, 4)"
      ]
     },
     "execution_count": 26,
     "metadata": {},
     "output_type": "execute_result"
    }
   ],
   "source": [
    "X_test.shape"
   ]
  },
  {
   "cell_type": "code",
   "execution_count": 27,
   "metadata": {},
   "outputs": [],
   "source": [
    "from sklearn.linear_model import LinearRegression\n",
    "from sklearn.metrics import confusion_matrix, accuracy_score\n",
    "regressor = LinearRegression()"
   ]
  },
  {
   "cell_type": "code",
   "execution_count": 28,
   "metadata": {},
   "outputs": [
    {
     "data": {
      "text/plain": [
       "LinearRegression()"
      ]
     },
     "execution_count": 28,
     "metadata": {},
     "output_type": "execute_result"
    }
   ],
   "source": [
    "regressor.fit(X_train,y_train)"
   ]
  },
  {
   "cell_type": "code",
   "execution_count": 29,
   "metadata": {},
   "outputs": [
    {
     "name": "stdout",
     "output_type": "stream",
     "text": [
      "[-5.91077849e-01  8.82324043e-01  7.08502308e-01 -6.03085341e-08]\n"
     ]
    }
   ],
   "source": [
    "print(regressor.coef_)"
   ]
  },
  {
   "cell_type": "code",
   "execution_count": 30,
   "metadata": {},
   "outputs": [
    {
     "name": "stdout",
     "output_type": "stream",
     "text": [
      "0.07611183614171324\n"
     ]
    }
   ],
   "source": [
    "print(regressor.intercept_)"
   ]
  },
  {
   "cell_type": "code",
   "execution_count": 32,
   "metadata": {},
   "outputs": [
    {
     "name": "stdout",
     "output_type": "stream",
     "text": [
      "          Open       High        Low   Volume\n",
      "158  69.050003  69.250000  68.510002  1025200\n",
      "83   46.799999  47.230000  46.169998  2879200\n",
      "170  68.500000  68.610001  67.510002  1248700\n",
      "101  50.189999  50.250000  49.439999  1050600\n",
      "150  60.580002  61.680000  60.380001  1133500\n",
      "..         ...        ...        ...      ...\n",
      "221  80.849998  81.709999  80.839996   899200\n",
      "15   40.720001  40.799999  39.700001  1757300\n",
      "152  63.099998  63.970001  62.299999  2086400\n",
      "74   49.160000  51.820000  48.970001  4134000\n",
      "7    41.250000  41.509998  39.930000  1769000\n",
      "\n",
      "[63 rows x 4 columns]\n"
     ]
    }
   ],
   "source": [
    "predicted=regressor.predict(X_test)\n",
    "print(X_test)"
   ]
  },
  {
   "cell_type": "code",
   "execution_count": 33,
   "metadata": {},
   "outputs": [
    {
     "data": {
      "text/plain": [
       "(63,)"
      ]
     },
     "execution_count": 33,
     "metadata": {},
     "output_type": "execute_result"
    }
   ],
   "source": [
    "predicted.shape"
   ]
  },
  {
   "cell_type": "code",
   "execution_count": 35,
   "metadata": {},
   "outputs": [
    {
     "name": "stdout",
     "output_type": "stream",
     "text": [
      "        Actual  Predicted\n",
      "158  68.720001  68.840791\n",
      "83   46.750000  46.623744\n",
      "170  68.029999  67.879218\n",
      "101  49.720001  49.711692\n",
      "150  61.439999  61.401372\n",
      "..         ...        ...\n",
      "221  81.449997  81.603260\n",
      "15   39.950001  40.027804\n",
      "152  63.450001  63.235236\n",
      "74   51.509998  51.186800\n",
      "7    41.000000  40.503231\n",
      "\n",
      "[63 rows x 2 columns]\n"
     ]
    }
   ],
   "source": [
    "dframe=pd.DataFrame(y_test,predicted)\n",
    "dfr=pd.DataFrame({'Actual':y_test,'Predicted':predicted})\n",
    "print(dfr)"
   ]
  },
  {
   "cell_type": "code",
   "execution_count": 36,
   "metadata": {},
   "outputs": [
    {
     "data": {
      "text/html": [
       "<div>\n",
       "<style scoped>\n",
       "    .dataframe tbody tr th:only-of-type {\n",
       "        vertical-align: middle;\n",
       "    }\n",
       "\n",
       "    .dataframe tbody tr th {\n",
       "        vertical-align: top;\n",
       "    }\n",
       "\n",
       "    .dataframe thead th {\n",
       "        text-align: right;\n",
       "    }\n",
       "</style>\n",
       "<table border=\"1\" class=\"dataframe\">\n",
       "  <thead>\n",
       "    <tr style=\"text-align: right;\">\n",
       "      <th></th>\n",
       "      <th>Actual</th>\n",
       "      <th>Predicted</th>\n",
       "    </tr>\n",
       "  </thead>\n",
       "  <tbody>\n",
       "    <tr>\n",
       "      <th>158</th>\n",
       "      <td>68.720001</td>\n",
       "      <td>68.840791</td>\n",
       "    </tr>\n",
       "    <tr>\n",
       "      <th>83</th>\n",
       "      <td>46.750000</td>\n",
       "      <td>46.623744</td>\n",
       "    </tr>\n",
       "    <tr>\n",
       "      <th>170</th>\n",
       "      <td>68.029999</td>\n",
       "      <td>67.879218</td>\n",
       "    </tr>\n",
       "    <tr>\n",
       "      <th>101</th>\n",
       "      <td>49.720001</td>\n",
       "      <td>49.711692</td>\n",
       "    </tr>\n",
       "    <tr>\n",
       "      <th>150</th>\n",
       "      <td>61.439999</td>\n",
       "      <td>61.401372</td>\n",
       "    </tr>\n",
       "    <tr>\n",
       "      <th>199</th>\n",
       "      <td>74.879997</td>\n",
       "      <td>74.988027</td>\n",
       "    </tr>\n",
       "    <tr>\n",
       "      <th>118</th>\n",
       "      <td>48.090000</td>\n",
       "      <td>47.676919</td>\n",
       "    </tr>\n",
       "    <tr>\n",
       "      <th>227</th>\n",
       "      <td>79.139999</td>\n",
       "      <td>78.665441</td>\n",
       "    </tr>\n",
       "    <tr>\n",
       "      <th>63</th>\n",
       "      <td>47.759998</td>\n",
       "      <td>48.062365</td>\n",
       "    </tr>\n",
       "    <tr>\n",
       "      <th>135</th>\n",
       "      <td>56.410000</td>\n",
       "      <td>56.457644</td>\n",
       "    </tr>\n",
       "    <tr>\n",
       "      <th>149</th>\n",
       "      <td>60.150002</td>\n",
       "      <td>60.126364</td>\n",
       "    </tr>\n",
       "    <tr>\n",
       "      <th>232</th>\n",
       "      <td>82.279999</td>\n",
       "      <td>80.864018</td>\n",
       "    </tr>\n",
       "    <tr>\n",
       "      <th>109</th>\n",
       "      <td>49.470001</td>\n",
       "      <td>49.902988</td>\n",
       "    </tr>\n",
       "    <tr>\n",
       "      <th>188</th>\n",
       "      <td>72.000000</td>\n",
       "      <td>72.220590</td>\n",
       "    </tr>\n",
       "    <tr>\n",
       "      <th>153</th>\n",
       "      <td>66.760002</td>\n",
       "      <td>67.608252</td>\n",
       "    </tr>\n",
       "    <tr>\n",
       "      <th>73</th>\n",
       "      <td>47.279999</td>\n",
       "      <td>47.420830</td>\n",
       "    </tr>\n",
       "    <tr>\n",
       "      <th>205</th>\n",
       "      <td>72.800003</td>\n",
       "      <td>73.083472</td>\n",
       "    </tr>\n",
       "    <tr>\n",
       "      <th>171</th>\n",
       "      <td>67.500000</td>\n",
       "      <td>67.761695</td>\n",
       "    </tr>\n",
       "    <tr>\n",
       "      <th>157</th>\n",
       "      <td>67.919998</td>\n",
       "      <td>67.486365</td>\n",
       "    </tr>\n",
       "    <tr>\n",
       "      <th>97</th>\n",
       "      <td>47.720001</td>\n",
       "      <td>47.697818</td>\n",
       "    </tr>\n",
       "    <tr>\n",
       "      <th>187</th>\n",
       "      <td>70.720001</td>\n",
       "      <td>71.109300</td>\n",
       "    </tr>\n",
       "    <tr>\n",
       "      <th>45</th>\n",
       "      <td>45.830002</td>\n",
       "      <td>46.065964</td>\n",
       "    </tr>\n",
       "    <tr>\n",
       "      <th>239</th>\n",
       "      <td>82.330002</td>\n",
       "      <td>82.675600</td>\n",
       "    </tr>\n",
       "    <tr>\n",
       "      <th>138</th>\n",
       "      <td>57.400002</td>\n",
       "      <td>57.572611</td>\n",
       "    </tr>\n",
       "    <tr>\n",
       "      <th>110</th>\n",
       "      <td>49.849998</td>\n",
       "      <td>50.151130</td>\n",
       "    </tr>\n",
       "  </tbody>\n",
       "</table>\n",
       "</div>"
      ],
      "text/plain": [
       "        Actual  Predicted\n",
       "158  68.720001  68.840791\n",
       "83   46.750000  46.623744\n",
       "170  68.029999  67.879218\n",
       "101  49.720001  49.711692\n",
       "150  61.439999  61.401372\n",
       "199  74.879997  74.988027\n",
       "118  48.090000  47.676919\n",
       "227  79.139999  78.665441\n",
       "63   47.759998  48.062365\n",
       "135  56.410000  56.457644\n",
       "149  60.150002  60.126364\n",
       "232  82.279999  80.864018\n",
       "109  49.470001  49.902988\n",
       "188  72.000000  72.220590\n",
       "153  66.760002  67.608252\n",
       "73   47.279999  47.420830\n",
       "205  72.800003  73.083472\n",
       "171  67.500000  67.761695\n",
       "157  67.919998  67.486365\n",
       "97   47.720001  47.697818\n",
       "187  70.720001  71.109300\n",
       "45   45.830002  46.065964\n",
       "239  82.330002  82.675600\n",
       "138  57.400002  57.572611\n",
       "110  49.849998  50.151130"
      ]
     },
     "execution_count": 36,
     "metadata": {},
     "output_type": "execute_result"
    }
   ],
   "source": [
    "dfr.head(25)"
   ]
  },
  {
   "cell_type": "code",
   "execution_count": 37,
   "metadata": {},
   "outputs": [],
   "source": [
    "from sklearn.metrics import confusion_matrix, accuracy_score"
   ]
  },
  {
   "cell_type": "code",
   "execution_count": 38,
   "metadata": {},
   "outputs": [
    {
     "data": {
      "text/plain": [
       "0.9990582656925028"
      ]
     },
     "execution_count": 38,
     "metadata": {},
     "output_type": "execute_result"
    }
   ],
   "source": [
    "regressor.score(X_test,y_test)"
   ]
  },
  {
   "cell_type": "code",
   "execution_count": 39,
   "metadata": {},
   "outputs": [],
   "source": [
    "import math"
   ]
  },
  {
   "cell_type": "code",
   "execution_count": 40,
   "metadata": {},
   "outputs": [
    {
     "name": "stdout",
     "output_type": "stream",
     "text": [
      "Mean Absolute Error: 0.33292741370260515\n"
     ]
    }
   ],
   "source": [
    "print('Mean Absolute Error:',metrics.mean_absolute_error(y_test,predicted))"
   ]
  },
  {
   "cell_type": "code",
   "execution_count": 41,
   "metadata": {},
   "outputs": [
    {
     "name": "stdout",
     "output_type": "stream",
     "text": [
      "Mean Squared  Error: 0.17048256634009312\n"
     ]
    }
   ],
   "source": [
    "print('Mean Squared  Error:',metrics.mean_squared_error(y_test,predicted))"
   ]
  },
  {
   "cell_type": "code",
   "execution_count": 42,
   "metadata": {},
   "outputs": [
    {
     "name": "stdout",
     "output_type": "stream",
     "text": [
      "Root Mean Squared Error: 0.4128953455054841\n"
     ]
    }
   ],
   "source": [
    "print('Root Mean Squared Error:',math.sqrt(metrics.mean_squared_error(y_test,predicted)))"
   ]
  },
  {
   "cell_type": "code",
   "execution_count": 47,
   "metadata": {},
   "outputs": [
    {
     "data": {
      "text/plain": [
       "<AxesSubplot:>"
      ]
     },
     "execution_count": 47,
     "metadata": {},
     "output_type": "execute_result"
    },
    {
     "data": {
      "image/png": "[encoded data removed]",
      "text/plain": [
       "<Figure size 432x288 with 1 Axes>"
      ]
     },
     "metadata": {
      "needs_background": "light"
     },
     "output_type": "display_data"
    }
   ],
   "source": [
    "graph=dfr.head(20)\n",
    "graph.plot(kind='bar')"
   ]
  }
 ],
 "metadata": {
  "kernelspec": {
   "display_name": "Python 3",
   "language": "python",
   "name": "python3"
  },
  "language_info": {
   "codemirror_mode": {
    "name": "ipython",
    "version": 3
   },
   "file_extension": ".py",
   "mimetype": "text/x-python",
   "name": "python",
   "nbconvert_exporter": "python",
   "pygments_lexer": "ipython3",
   "version": "3.8.5"
  }
 },
 "nbformat": 4,
 "nbformat_minor": 4
}
